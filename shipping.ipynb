{
 "cells": [
  {
   "cell_type": "markdown",
   "metadata": {},
   "source": [
    "## Exploring Maritime Freight data – container volume and metric tonnage – in the U.S. \n",
    "\n",
    "Source: https://www.marad.dot.gov/resources/data-statistics/"
   ]
  },
  {
   "cell_type": "code",
   "execution_count": 420,
   "metadata": {
    "collapsed": true
   },
   "outputs": [],
   "source": [
    "#Load packages\n",
    "import pandas as pd\n",
    "import numpy as np\n",
    "import matplotlib.pyplot as plt\n",
    "%matplotlib inline"
   ]
  },
  {
   "cell_type": "markdown",
   "metadata": {},
   "source": [
    "### Loading and arranging / formatting data"
   ]
  },
  {
   "cell_type": "markdown",
   "metadata": {},
   "source": [
    "Our data is in 6 separate CSV files, so we'll need to load them in one-by-one, make a few transformations, and then join them into two sets of three. In total, we have:\n",
    "\n",
    "* Total TEU\n",
    "* Import TEU\n",
    "* Export TEU\n",
    "* Total MT\n",
    "* Import MT\n",
    "* Export MT"
   ]
  },
  {
   "cell_type": "code",
   "execution_count": 421,
   "metadata": {
    "collapsed": false
   },
   "outputs": [],
   "source": [
    "#Load data\n",
    "totalTEU = pd.read_csv(\"totalTEU.csv\")\n",
    "importTEU = pd.read_csv(\"importTEU.csv\")\n",
    "exportTEU = pd.read_csv(\"exportTEU.csv\")\n",
    "totalMT = pd.read_csv(\"totalMT.csv\")\n",
    "importMT = pd.read_csv(\"importMT.csv\")\n",
    "exportMT = pd.read_csv(\"exportMT.csv\")"
   ]
  },
  {
   "cell_type": "markdown",
   "metadata": {},
   "source": [
    "The data is coming in a little jumbled, so here's the workflow we're going to implement for each of our 6 dataframes:\n",
    "\n",
    "* Create a separate dataframe for the coast of each port\n",
    "* Delete the \"coast\" column from each dataframe\n",
    "* Melt down each dataframe into 3 columns: port, year, and respective value (totalTEU, importMT, etc.)\n",
    "* Merge all 6 dataframes together into one shipping dataframe\n",
    "* Convert numeric fields from strings to integers"
   ]
  },
  {
   "cell_type": "code",
   "execution_count": 422,
   "metadata": {
    "collapsed": false
   },
   "outputs": [],
   "source": [
    "#Create a new dataframe of each city and its respective coast\n",
    "coasts = totalTEU[['Coast','U.S. Custom Ports']]\n",
    "#Set the index to the city\n",
    "coasts.set_index('U.S. Custom Ports', inplace=True)"
   ]
  },
  {
   "cell_type": "code",
   "execution_count": 423,
   "metadata": {
    "collapsed": false
   },
   "outputs": [],
   "source": [
    "#Drop the coasts row from the dataframes\n",
    "for df in [totalTEU, importTEU, exportTEU, totalMT, importMT, exportMT]:\n",
    "    del df['Coast']"
   ]
  },
  {
   "cell_type": "code",
   "execution_count": 424,
   "metadata": {
    "collapsed": false
   },
   "outputs": [],
   "source": [
    "#Melt down each dataframe into 3 columns: port, year, and respective value\n",
    "totalTEU = totalTEU.melt(id_vars='U.S. Custom Ports', var_name='year', value_name='totalTEU')\n",
    "importTEU = importTEU.melt(id_vars='U.S. Custom Ports', var_name='year', value_name='importTEU')\n",
    "exportTEU = exportTEU.melt(id_vars='U.S. Custom Ports', var_name='year', value_name='exportTEU')\n",
    "totalMT = totalMT.melt(id_vars='U.S. Custom Ports', var_name='year', value_name='totalMT')\n",
    "importMT = importMT.melt(id_vars='U.S. Custom Ports', var_name='year', value_name='importMT')\n",
    "exportMT = exportMT.melt(id_vars='U.S. Custom Ports', var_name='year', value_name='exportMT')"
   ]
  },
  {
   "cell_type": "code",
   "execution_count": 425,
   "metadata": {
    "collapsed": false
   },
   "outputs": [],
   "source": [
    "#Merge together all TEU measures\n",
    "TEUs = pd.merge(totalTEU,importTEU, on=['U.S. Custom Ports', 'year']).merge(exportTEU, on=['U.S. Custom Ports', 'year'])\n",
    "#Merge together all MT measures\n",
    "MTs = pd.merge(totalMT,importMT, on=['U.S. Custom Ports', 'year']).merge(exportMT, on=['U.S. Custom Ports', 'year'])\n",
    "#Merge together everything\n",
    "shipping = pd.merge(TEUs, MTs, on=['U.S. Custom Ports', 'year'])"
   ]
  },
  {
   "cell_type": "code",
   "execution_count": 426,
   "metadata": {
    "collapsed": false
   },
   "outputs": [],
   "source": [
    "#Since some of the numbers are floats/ints and some are strings, we'll need to create a function to clean them\n",
    "def cleanNum(x):\n",
    "    if type(x) != str:\n",
    "        return x\n",
    "    elif type(x) == str:\n",
    "        return float(x.replace(',',''))"
   ]
  },
  {
   "cell_type": "code",
   "execution_count": 427,
   "metadata": {
    "collapsed": false
   },
   "outputs": [],
   "source": [
    "#Apply our cleanNum function to \n",
    "for col in shipping.loc[:,'totalTEU':]:\n",
    "    shipping[col] = shipping[col].apply(cleanNum)"
   ]
  },
  {
   "cell_type": "code",
   "execution_count": 428,
   "metadata": {
    "collapsed": false
   },
   "outputs": [
    {
     "data": {
      "text/html": [
       "<div>\n",
       "<style scoped>\n",
       "    .dataframe tbody tr th:only-of-type {\n",
       "        vertical-align: middle;\n",
       "    }\n",
       "\n",
       "    .dataframe tbody tr th {\n",
       "        vertical-align: top;\n",
       "    }\n",
       "\n",
       "    .dataframe thead th {\n",
       "        text-align: right;\n",
       "    }\n",
       "</style>\n",
       "<table border=\"1\" class=\"dataframe\">\n",
       "  <thead>\n",
       "    <tr style=\"text-align: right;\">\n",
       "      <th></th>\n",
       "      <th>U.S. Custom Ports</th>\n",
       "      <th>year</th>\n",
       "      <th>totalTEU</th>\n",
       "      <th>importTEU</th>\n",
       "      <th>exportTEU</th>\n",
       "      <th>totalMT</th>\n",
       "      <th>importMT</th>\n",
       "      <th>exportMT</th>\n",
       "    </tr>\n",
       "  </thead>\n",
       "  <tbody>\n",
       "    <tr>\n",
       "      <th>987</th>\n",
       "      <td>Tampa, FL</td>\n",
       "      <td>2015</td>\n",
       "      <td>38406.0</td>\n",
       "      <td>28055.0</td>\n",
       "      <td>10352.0</td>\n",
       "      <td>337579.0</td>\n",
       "      <td>221477.0</td>\n",
       "      <td>116102.0</td>\n",
       "    </tr>\n",
       "    <tr>\n",
       "      <th>988</th>\n",
       "      <td>Vancouver, WA</td>\n",
       "      <td>2015</td>\n",
       "      <td>2752.0</td>\n",
       "      <td>1836.0</td>\n",
       "      <td>916.0</td>\n",
       "      <td>27401.0</td>\n",
       "      <td>13939.0</td>\n",
       "      <td>13462.0</td>\n",
       "    </tr>\n",
       "    <tr>\n",
       "      <th>989</th>\n",
       "      <td>West Palm Beach, FL</td>\n",
       "      <td>2015</td>\n",
       "      <td>164028.0</td>\n",
       "      <td>29863.0</td>\n",
       "      <td>134164.0</td>\n",
       "      <td>1372871.0</td>\n",
       "      <td>357895.0</td>\n",
       "      <td>1014976.0</td>\n",
       "    </tr>\n",
       "    <tr>\n",
       "      <th>990</th>\n",
       "      <td>Wilmington, DE</td>\n",
       "      <td>2015</td>\n",
       "      <td>194529.0</td>\n",
       "      <td>164912.0</td>\n",
       "      <td>29618.0</td>\n",
       "      <td>1821914.0</td>\n",
       "      <td>1621830.0</td>\n",
       "      <td>200084.0</td>\n",
       "    </tr>\n",
       "    <tr>\n",
       "      <th>991</th>\n",
       "      <td>Wilmington, NC</td>\n",
       "      <td>2015</td>\n",
       "      <td>232118.0</td>\n",
       "      <td>124698.0</td>\n",
       "      <td>107420.0</td>\n",
       "      <td>2002633.0</td>\n",
       "      <td>896591.0</td>\n",
       "      <td>1106042.0</td>\n",
       "    </tr>\n",
       "  </tbody>\n",
       "</table>\n",
       "</div>"
      ],
      "text/plain": [
       "       U.S. Custom Ports  year  totalTEU  importTEU  exportTEU    totalMT  \\\n",
       "987            Tampa, FL  2015   38406.0    28055.0    10352.0   337579.0   \n",
       "988        Vancouver, WA  2015    2752.0     1836.0      916.0    27401.0   \n",
       "989  West Palm Beach, FL  2015  164028.0    29863.0   134164.0  1372871.0   \n",
       "990       Wilmington, DE  2015  194529.0   164912.0    29618.0  1821914.0   \n",
       "991       Wilmington, NC  2015  232118.0   124698.0   107420.0  2002633.0   \n",
       "\n",
       "      importMT   exportMT  \n",
       "987   221477.0   116102.0  \n",
       "988    13939.0    13462.0  \n",
       "989   357895.0  1014976.0  \n",
       "990  1621830.0   200084.0  \n",
       "991   896591.0  1106042.0  "
      ]
     },
     "execution_count": 428,
     "metadata": {},
     "output_type": "execute_result"
    }
   ],
   "source": [
    "shipping.tail()"
   ]
  },
  {
   "cell_type": "markdown",
   "metadata": {},
   "source": [
    "### Basic overview"
   ]
  },
  {
   "cell_type": "markdown",
   "metadata": {},
   "source": [
    "To get a better idea of what we're looking at, let's look at some summary statistic and basic data plots."
   ]
  },
  {
   "cell_type": "code",
   "execution_count": 429,
   "metadata": {
    "collapsed": false
   },
   "outputs": [],
   "source": [
    "#To make indexing slightly easier\n",
    "shipping = shipping.rename(columns = {'U.S. Custom Ports': 'port'})"
   ]
  },
  {
   "cell_type": "code",
   "execution_count": 432,
   "metadata": {
    "collapsed": false
   },
   "outputs": [
    {
     "data": {
      "text/html": [
       "<div>\n",
       "<style scoped>\n",
       "    .dataframe tbody tr th:only-of-type {\n",
       "        vertical-align: middle;\n",
       "    }\n",
       "\n",
       "    .dataframe tbody tr th {\n",
       "        vertical-align: top;\n",
       "    }\n",
       "\n",
       "    .dataframe thead th {\n",
       "        text-align: right;\n",
       "    }\n",
       "</style>\n",
       "<table border=\"1\" class=\"dataframe\">\n",
       "  <thead>\n",
       "    <tr style=\"text-align: right;\">\n",
       "      <th></th>\n",
       "      <th>totalTEU</th>\n",
       "      <th>importTEU</th>\n",
       "      <th>exportTEU</th>\n",
       "      <th>totalMT</th>\n",
       "      <th>importMT</th>\n",
       "      <th>exportMT</th>\n",
       "    </tr>\n",
       "  </thead>\n",
       "  <tbody>\n",
       "    <tr>\n",
       "      <th>count</th>\n",
       "      <td>991.0</td>\n",
       "      <td>992.0</td>\n",
       "      <td>992.0</td>\n",
       "      <td>992.0</td>\n",
       "      <td>992.0</td>\n",
       "      <td>992.0</td>\n",
       "    </tr>\n",
       "    <tr>\n",
       "      <th>mean</th>\n",
       "      <td>425954.6</td>\n",
       "      <td>261785.3</td>\n",
       "      <td>159417.9</td>\n",
       "      <td>3413283.6</td>\n",
       "      <td>1884284.4</td>\n",
       "      <td>1528999.2</td>\n",
       "    </tr>\n",
       "    <tr>\n",
       "      <th>std</th>\n",
       "      <td>1001895.5</td>\n",
       "      <td>693505.5</td>\n",
       "      <td>326867.2</td>\n",
       "      <td>7589919.9</td>\n",
       "      <td>4579770.2</td>\n",
       "      <td>3177258.9</td>\n",
       "    </tr>\n",
       "    <tr>\n",
       "      <th>min</th>\n",
       "      <td>0.0</td>\n",
       "      <td>0.0</td>\n",
       "      <td>0.0</td>\n",
       "      <td>0.0</td>\n",
       "      <td>0.0</td>\n",
       "      <td>0.0</td>\n",
       "    </tr>\n",
       "    <tr>\n",
       "      <th>25%</th>\n",
       "      <td>238.5</td>\n",
       "      <td>72.0</td>\n",
       "      <td>56.5</td>\n",
       "      <td>2429.2</td>\n",
       "      <td>666.0</td>\n",
       "      <td>582.0</td>\n",
       "    </tr>\n",
       "    <tr>\n",
       "      <th>50%</th>\n",
       "      <td>23842.0</td>\n",
       "      <td>13147.5</td>\n",
       "      <td>8565.5</td>\n",
       "      <td>208243.0</td>\n",
       "      <td>104056.0</td>\n",
       "      <td>72146.0</td>\n",
       "    </tr>\n",
       "    <tr>\n",
       "      <th>75%</th>\n",
       "      <td>210903.0</td>\n",
       "      <td>121558.5</td>\n",
       "      <td>103519.8</td>\n",
       "      <td>1987326.5</td>\n",
       "      <td>1208895.8</td>\n",
       "      <td>943993.8</td>\n",
       "    </tr>\n",
       "    <tr>\n",
       "      <th>max</th>\n",
       "      <td>6019633.0</td>\n",
       "      <td>4426542.0</td>\n",
       "      <td>1953607.0</td>\n",
       "      <td>44803371.0</td>\n",
       "      <td>26999878.0</td>\n",
       "      <td>20167385.0</td>\n",
       "    </tr>\n",
       "  </tbody>\n",
       "</table>\n",
       "</div>"
      ],
      "text/plain": [
       "       totalTEU  importTEU  exportTEU    totalMT   importMT   exportMT\n",
       "count     991.0      992.0      992.0      992.0      992.0      992.0\n",
       "mean   425954.6   261785.3   159417.9  3413283.6  1884284.4  1528999.2\n",
       "std   1001895.5   693505.5   326867.2  7589919.9  4579770.2  3177258.9\n",
       "min         0.0        0.0        0.0        0.0        0.0        0.0\n",
       "25%       238.5       72.0       56.5     2429.2      666.0      582.0\n",
       "50%     23842.0    13147.5     8565.5   208243.0   104056.0    72146.0\n",
       "75%    210903.0   121558.5   103519.8  1987326.5  1208895.8   943993.8\n",
       "max   6019633.0  4426542.0  1953607.0 44803371.0 26999878.0 20167385.0"
      ]
     },
     "execution_count": 432,
     "metadata": {},
     "output_type": "execute_result"
    }
   ],
   "source": [
    "pd.options.display.float_format = '{:.1f}'.format\n",
    "shipping.describe()"
   ]
  },
  {
   "cell_type": "markdown",
   "metadata": {},
   "source": [
    "Some initial notes we can get from the above:"
   ]
  },
  {
   "cell_type": "markdown",
   "metadata": {},
   "source": [
    "1) The average U.S. port imports 1.65x TEUs as it exports, but only 1.23x the Metric Tonnage."
   ]
  },
  {
   "cell_type": "code",
   "execution_count": 439,
   "metadata": {
    "collapsed": false
   },
   "outputs": [
    {
     "name": "stdout",
     "output_type": "stream",
     "text": [
      "Average import TEUs: 261785.251008\n",
      "Average export TEUs: 159417.943548\n",
      "Import to export TEU ratio: 1.64213165207\n",
      "\n",
      "\n",
      "Average import MTs: 1884284.4123\n",
      "Average export MTs: 1528999.17238\n",
      "Import to export MT ratio: 1.23236457307\n"
     ]
    }
   ],
   "source": [
    "print(\"Average import TEUs: \" + str(shipping['importTEU'].mean()))\n",
    "print(\"Average export TEUs: \" + str(shipping['exportTEU'].mean()))\n",
    "print(\"Import to export TEU ratio: \" + str(shipping['importTEU'].mean()/ shipping['exportTEU'].mean()))\n",
    "print(\"\\n\")\n",
    "print(\"Average import MTs: \" + str(shipping['importMT'].mean()))\n",
    "print(\"Average export MTs: \" + str(shipping['exportMT'].mean()))\n",
    "print(\"Import to export MT ratio: \" + str(shipping['importMT'].mean()/ shipping['exportMT'].mean()))"
   ]
  },
  {
   "cell_type": "markdown",
   "metadata": {},
   "source": [
    "2) Given that the mean and median are so far off each other, our distribution might be skewed. "
   ]
  },
  {
   "cell_type": "code",
   "execution_count": 444,
   "metadata": {
    "collapsed": false
   },
   "outputs": [
    {
     "data": {
      "text/plain": [
       "<matplotlib.axes._subplots.AxesSubplot at 0x1068edcd0>"
      ]
     },
     "execution_count": 444,
     "metadata": {},
     "output_type": "execute_result"
    },
    {
     "data": {
      "image/png": "[encoded data removed]",
      "text/plain": [
       "<matplotlib.figure.Figure at 0x106982750>"
      ]
     },
     "metadata": {},
     "output_type": "display_data"
    }
   ],
   "source": [
    "shipping['totalTEU'].hist(bins=40)"
   ]
  },
  {
   "cell_type": "markdown",
   "metadata": {},
   "source": [
    "The histogram shows a significant skew with a long right tail. To clean this up a little bit, we can also take the average TEUs shipped for each port and plot a histogram of that."
   ]
  },
  {
   "cell_type": "code",
   "execution_count": 464,
   "metadata": {
    "collapsed": false
   },
   "outputs": [
    {
     "data": {
      "text/plain": [
       "<matplotlib.axes._subplots.AxesSubplot at 0x10ac073d0>"
      ]
     },
     "execution_count": 464,
     "metadata": {},
     "output_type": "execute_result"
    },
    {
     "data": {
      "image/png": "[encoded data removed]",
      "text/plain": [
       "<matplotlib.figure.Figure at 0x10a00a5d0>"
      ]
     },
     "metadata": {},
     "output_type": "display_data"
    }
   ],
   "source": [
    "shipping.groupby('port').mean()['totalTEU'].hist(bins=15)"
   ]
  },
  {
   "cell_type": "markdown",
   "metadata": {},
   "source": [
    "It also doesn't seem like there are any ports in the dataset that have never shipped a TEU. So there are some ports that are shipping *very few* items, but not none."
   ]
  },
  {
   "cell_type": "code",
   "execution_count": 465,
   "metadata": {
    "collapsed": false
   },
   "outputs": [
    {
     "data": {
      "text/plain": [
       "0"
      ]
     },
     "execution_count": 465,
     "metadata": {},
     "output_type": "execute_result"
    }
   ],
   "source": [
    "sum(shipping.groupby('port').sum()['totalTEU'] == 0)"
   ]
  },
  {
   "cell_type": "markdown",
   "metadata": {},
   "source": [
    "In summary, we can safely say that within our dataset there's a long tail for U.S. ports – a small amount of the ports in the dataset ship the overwhelming majority of TEUs."
   ]
  },
  {
   "cell_type": "markdown",
   "metadata": {},
   "source": [
    "### Which ports import and export the most?"
   ]
  },
  {
   "cell_type": "code",
   "execution_count": 468,
   "metadata": {
    "collapsed": false
   },
   "outputs": [
    {
     "data": {
      "text/plain": [
       "port\n",
       "Los Angeles, CA   5118301.1\n",
       "Long Beach, CA    4187237.1\n",
       "New York, NY      3599193.8\n",
       "Savannah, GA      1790583.9\n",
       "Norfolk, VA       1412938.9\n",
       "Name: totalTEU, dtype: float64"
      ]
     },
     "execution_count": 468,
     "metadata": {},
     "output_type": "execute_result"
    }
   ],
   "source": [
    "#Highest average shipping volume\n",
    "shipping.groupby('port').mean()['totalTEU'].sort_values(ascending=False).head()"
   ]
  },
  {
   "cell_type": "code",
   "execution_count": 471,
   "metadata": {
    "collapsed": false
   },
   "outputs": [
    {
     "data": {
      "text/plain": [
       "port\n",
       "Los Angeles, CA   3749933.1\n",
       "Long Beach, CA    3044610.0\n",
       "New York, NY      2421513.9\n",
       "Savannah, GA       918261.5\n",
       "Norfolk, VA        746568.2\n",
       "Name: importTEU, dtype: float64"
      ]
     },
     "execution_count": 471,
     "metadata": {},
     "output_type": "execute_result"
    }
   ],
   "source": [
    "#Highest average import volume\n",
    "shipping.groupby('port').mean()['importTEU'].sort_values(ascending=False).head()"
   ]
  },
  {
   "cell_type": "code",
   "execution_count": 473,
   "metadata": {
    "collapsed": false
   },
   "outputs": [
    {
     "data": {
      "text/plain": [
       "port\n",
       "Los Angeles, CA   1366294.8\n",
       "New York, NY      1156409.8\n",
       "Long Beach, CA    1131249.9\n",
       "Savannah, GA       872297.4\n",
       "Houston, TX        695983.2\n",
       "Name: exportTEU, dtype: float64"
      ]
     },
     "execution_count": 473,
     "metadata": {},
     "output_type": "execute_result"
    }
   ],
   "source": [
    "#Highest average export volume\n",
    "shipping.groupby('port').mean()['exportTEU'].sort_values(ascending=False).head()"
   ]
  },
  {
   "cell_type": "markdown",
   "metadata": {},
   "source": [
    "LA, NYC, Long Beach, and Savannah occupy the top 4 spots on all 3 of these lists. The fifth spot goes to Norfolk for total TEUs and imported TEUs, but Houston has the slot for exports.\n",
    "\n",
    "Like we saw above in the descriptive statistics, the average U.S. port imports 1.6x as much as it exports. The top 5 ratios by port:"
   ]
  },
  {
   "cell_type": "code",
   "execution_count": 482,
   "metadata": {
    "collapsed": false
   },
   "outputs": [
    {
     "data": {
      "text/plain": [
       "port\n",
       "Kodiak, AK               inf\n",
       "Anacortes, WA          182.0\n",
       "Anchorage, AK           45.7\n",
       "Camden, NJ              12.6\n",
       "Lake Charles, LA         4.9\n",
       "Aberdeen, WA             4.2\n",
       "Longview, WA             4.2\n",
       "Brunswick, GA            3.9\n",
       "West Palm Beach, FL      3.5\n",
       "Fernandina Beach, FL     2.5\n",
       "dtype: float64"
      ]
     },
     "execution_count": 482,
     "metadata": {},
     "output_type": "execute_result"
    }
   ],
   "source": [
    "imports = shipping.groupby('port').mean()['importTEU']\n",
    "exports = shipping.groupby('port').mean()['exportTEU']\n",
    "(exports / imports).sort_values(ascending=False).head(10)"
   ]
  },
  {
   "cell_type": "code",
   "execution_count": 480,
   "metadata": {
    "collapsed": false
   },
   "outputs": [
    {
     "data": {
      "text/plain": [
       "port\n",
       "Kodiak, AK               inf\n",
       "Anacortes, WA          182.0\n",
       "Anchorage, AK           45.7\n",
       "Camden, NJ              12.6\n",
       "Lake Charles, LA         4.9\n",
       "Aberdeen, WA             4.2\n",
       "Longview, WA             4.2\n",
       "Brunswick, GA            3.9\n",
       "West Palm Beach, FL      3.5\n",
       "Fernandina Beach, FL     2.5\n",
       "dtype: float64"
      ]
     },
     "execution_count": 480,
     "metadata": {},
     "output_type": "execute_result"
    }
   ],
   "source": [
    "expRatio.sort_values(ascending=False).head(10)"
   ]
  },
  {
   "cell_type": "markdown",
   "metadata": {},
   "source": [
    "### Which ports import the heaviest and lightest freight?"
   ]
  },
  {
   "cell_type": "markdown",
   "metadata": {},
   "source": [
    "The ratio of Metric Tons to TEUs shipped should indicate how heavy freight typically is at a given port."
   ]
  },
  {
   "cell_type": "code",
   "execution_count": 491,
   "metadata": {
    "collapsed": false
   },
   "outputs": [],
   "source": [
    "weight = shipping.groupby('port').mean()['totalMT'] / shipping.groupby('port').mean()['totalTEU']"
   ]
  },
  {
   "cell_type": "code",
   "execution_count": 492,
   "metadata": {
    "collapsed": false
   },
   "outputs": [
    {
     "data": {
      "text/plain": [
       "port\n",
       "Port Arthur, TX    685.3\n",
       "Beaumont, TX        17.0\n",
       "Port Angeles, WA    16.5\n",
       "Baton Rouge, LA     15.3\n",
       "Gramercy, LA        14.3\n",
       "dtype: float64"
      ]
     },
     "execution_count": 492,
     "metadata": {},
     "output_type": "execute_result"
    }
   ],
   "source": [
    "weight.sort_values(ascending=False).head()"
   ]
  },
  {
   "cell_type": "code",
   "execution_count": 493,
   "metadata": {
    "collapsed": false
   },
   "outputs": [
    {
     "data": {
      "text/plain": [
       "port\n",
       "Pensauken, NJ        2.6\n",
       "Jacksonville, FL     4.8\n",
       "Mayaguez, PR         5.1\n",
       "Port Canaveral, FL   6.4\n",
       "Aberdeen, WA         6.6\n",
       "dtype: float64"
      ]
     },
     "execution_count": 493,
     "metadata": {},
     "output_type": "execute_result"
    }
   ],
   "source": [
    "weight.sort_values(ascending=True).head()"
   ]
  },
  {
   "cell_type": "markdown",
   "metadata": {},
   "source": [
    "Port Arthur, TX has an outsized weight ratio (way more MT shipped than TEU)."
   ]
  },
  {
   "cell_type": "markdown",
   "metadata": {},
   "source": [
    "### Mapping the relative size of ports"
   ]
  },
  {
   "cell_type": "code",
   "execution_count": 659,
   "metadata": {
    "collapsed": false
   },
   "outputs": [],
   "source": [
    "from mpl_toolkits.basemap import Basemap as Basemap\n",
    "from geopy.geocoders import Nominatim\n",
    "import math"
   ]
  },
  {
   "cell_type": "code",
   "execution_count": 660,
   "metadata": {
    "collapsed": false
   },
   "outputs": [],
   "source": [
    "#Separate ports and totalTEU into a dataframe for plotting\n",
    "ports = shipping.groupby('port').mean()['totalTEU']"
   ]
  },
  {
   "cell_type": "code",
   "execution_count": 661,
   "metadata": {
    "collapsed": false
   },
   "outputs": [],
   "source": [
    "#Remove the state from each city and insert into new list\n",
    "portCities = []\n",
    "for port in ports.index:\n",
    "    portCity = port.split(',')[0]\n",
    "    portCities.append(portCity)"
   ]
  },
  {
   "cell_type": "code",
   "execution_count": 662,
   "metadata": {
    "collapsed": false
   },
   "outputs": [],
   "source": [
    "#Create a new tuple with the index as cities\n",
    "portsMap = zip(portCities, ports)\n",
    "#Sort tuples by totalTEU value\n",
    "portsMap.sort(key=lambda x: x[1])"
   ]
  },
  {
   "cell_type": "code",
   "execution_count": 668,
   "metadata": {
    "collapsed": false
   },
   "outputs": [
    {
     "data": {
      "image/png": "[encoded data removed]",
      "text/plain": [
       "<matplotlib.figure.Figure at 0x11cf173d0>"
      ]
     },
     "metadata": {},
     "output_type": "display_data"
    }
   ],
   "source": [
    "#Get the location of each city and plot it\n",
    "scale = .006\n",
    "map = Basemap(llcrnrlon=-119,llcrnrlat=22,urcrnrlon=-64,urcrnrlat=49,\n",
    "        projection='lcc',lat_1=32,lat_2=45,lon_0=-95)\n",
    "# load the shapefile, use the name 'states'\n",
    "map.readshapefile('st99_d00', name='states', drawbounds=True)\n",
    "\n",
    "geolocator = Nominatim()\n",
    "#Use only the top 15 ports by totalTEU\n",
    "for (port,TEU) in portsMap[47:62]:\n",
    "    try:\n",
    "        loc = geolocator.geocode(port)\n",
    "        x, y = map(loc.longitude, loc.latitude)\n",
    "        map.plot(x,y,marker='o',color='Red',markersize=int(math.sqrt(TEU))*scale)\n",
    "    except AttributeError:\n",
    "        pass\n",
    "plt.show()"
   ]
  }
 ],
 "metadata": {
  "anaconda-cloud": {},
  "kernelspec": {
   "display_name": "Python [conda root]",
   "language": "python",
   "name": "conda-root-py"
  },
  "language_info": {
   "codemirror_mode": {
    "name": "ipython",
    "version": 2
   },
   "file_extension": ".py",
   "mimetype": "text/x-python",
   "name": "python",
   "nbconvert_exporter": "python",
   "pygments_lexer": "ipython2",
   "version": "2.7.12"
  }
 },
 "nbformat": 4,
 "nbformat_minor": 1
}
